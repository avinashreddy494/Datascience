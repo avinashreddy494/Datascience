{
 "cells": [
  {
   "cell_type": "code",
   "execution_count": 1,
   "id": "a119ed29",
   "metadata": {
    "_cell_guid": "b1076dfc-b9ad-4769-8c92-a6c4dae69d19",
    "_uuid": "8f2839f25d086af736a60e9eeb907d3b93b6e0e5",
    "execution": {
     "iopub.execute_input": "2022-08-03T13:57:51.422101Z",
     "iopub.status.busy": "2022-08-03T13:57:51.421328Z",
     "iopub.status.idle": "2022-08-03T13:57:51.438082Z",
     "shell.execute_reply": "2022-08-03T13:57:51.437227Z"
    },
    "papermill": {
     "duration": 0.027888,
     "end_time": "2022-08-03T13:57:51.441482",
     "exception": false,
     "start_time": "2022-08-03T13:57:51.413594",
     "status": "completed"
    },
    "tags": []
   },
   "outputs": [
    {
     "name": "stdout",
     "output_type": "stream",
     "text": [
      "/kaggle/input/named-entity-recognition-ner-corpus/ner.csv\n"
     ]
    }
   ],
   "source": [
    "import numpy as np\n",
    "import pandas as pd\n",
    "import os\n",
    "for dirname, _, filenames in os.walk('/kaggle/input'):\n",
    "    for filename in filenames:\n",
    "        print(os.path.join(dirname, filename))"
   ]
  },
  {
   "cell_type": "code",
   "execution_count": 2,
   "id": "c60ba580",
   "metadata": {
    "execution": {
     "iopub.execute_input": "2022-08-03T13:57:51.453441Z",
     "iopub.status.busy": "2022-08-03T13:57:51.452695Z",
     "iopub.status.idle": "2022-08-03T13:57:58.448358Z",
     "shell.execute_reply": "2022-08-03T13:57:58.447234Z"
    },
    "papermill": {
     "duration": 7.004125,
     "end_time": "2022-08-03T13:57:58.450988",
     "exception": false,
     "start_time": "2022-08-03T13:57:51.446863",
     "status": "completed"
    },
    "tags": []
   },
   "outputs": [],
   "source": [
    "import tensorflow\n",
    "from sklearn.model_selection import train_test_split\n",
    "from keras.preprocessing.sequence import pad_sequences\n",
    "from tensorflow.keras.utils import to_categorical\n",
    "from tensorflow.keras import Sequential, Model, Input\n",
    "from tensorflow.keras.layers import LSTM, Embedding, Dense, TimeDistributed, Dropout, Bidirectional\n",
    "from tensorflow.keras.utils import plot_model\n",
    "from numpy.random import seed\n",
    "seed(1)\n",
    "tensorflow.random.set_seed(2)"
   ]
  },
  {
   "cell_type": "code",
   "execution_count": 3,
   "id": "3cd416d7",
   "metadata": {
    "execution": {
     "iopub.execute_input": "2022-08-03T13:57:58.459765Z",
     "iopub.status.busy": "2022-08-03T13:57:58.459082Z",
     "iopub.status.idle": "2022-08-03T13:57:59.006205Z",
     "shell.execute_reply": "2022-08-03T13:57:59.004967Z"
    },
    "papermill": {
     "duration": 0.553986,
     "end_time": "2022-08-03T13:57:59.008709",
     "exception": false,
     "start_time": "2022-08-03T13:57:58.454723",
     "status": "completed"
    },
    "tags": []
   },
   "outputs": [
    {
     "data": {
      "text/html": [
       "<div>\n",
       "<style scoped>\n",
       "    .dataframe tbody tr th:only-of-type {\n",
       "        vertical-align: middle;\n",
       "    }\n",
       "\n",
       "    .dataframe tbody tr th {\n",
       "        vertical-align: top;\n",
       "    }\n",
       "\n",
       "    .dataframe thead th {\n",
       "        text-align: right;\n",
       "    }\n",
       "</style>\n",
       "<table border=\"1\" class=\"dataframe\">\n",
       "  <thead>\n",
       "    <tr style=\"text-align: right;\">\n",
       "      <th></th>\n",
       "      <th>Sentence #</th>\n",
       "      <th>Sentence</th>\n",
       "      <th>POS</th>\n",
       "      <th>Tag</th>\n",
       "    </tr>\n",
       "  </thead>\n",
       "  <tbody>\n",
       "    <tr>\n",
       "      <th>0</th>\n",
       "      <td>Sentence: 1</td>\n",
       "      <td>Thousands of demonstrators have marched throug...</td>\n",
       "      <td>['NNS', 'IN', 'NNS', 'VBP', 'VBN', 'IN', 'NNP'...</td>\n",
       "      <td>['O', 'O', 'O', 'O', 'O', 'O', 'B-geo', 'O', '...</td>\n",
       "    </tr>\n",
       "    <tr>\n",
       "      <th>1</th>\n",
       "      <td>Sentence: 2</td>\n",
       "      <td>Families of soldiers killed in the conflict jo...</td>\n",
       "      <td>['NNS', 'IN', 'NNS', 'VBN', 'IN', 'DT', 'NN', ...</td>\n",
       "      <td>['O', 'O', 'O', 'O', 'O', 'O', 'O', 'O', 'O', ...</td>\n",
       "    </tr>\n",
       "    <tr>\n",
       "      <th>2</th>\n",
       "      <td>Sentence: 3</td>\n",
       "      <td>They marched from the Houses of Parliament to ...</td>\n",
       "      <td>['PRP', 'VBD', 'IN', 'DT', 'NNS', 'IN', 'NN', ...</td>\n",
       "      <td>['O', 'O', 'O', 'O', 'O', 'O', 'O', 'O', 'O', ...</td>\n",
       "    </tr>\n",
       "    <tr>\n",
       "      <th>3</th>\n",
       "      <td>Sentence: 4</td>\n",
       "      <td>Police put the number of marchers at 10,000 wh...</td>\n",
       "      <td>['NNS', 'VBD', 'DT', 'NN', 'IN', 'NNS', 'IN', ...</td>\n",
       "      <td>['O', 'O', 'O', 'O', 'O', 'O', 'O', 'O', 'O', ...</td>\n",
       "    </tr>\n",
       "    <tr>\n",
       "      <th>4</th>\n",
       "      <td>Sentence: 5</td>\n",
       "      <td>The protest comes on the eve of the annual con...</td>\n",
       "      <td>['DT', 'NN', 'VBZ', 'IN', 'DT', 'NN', 'IN', 'D...</td>\n",
       "      <td>['O', 'O', 'O', 'O', 'O', 'O', 'O', 'O', 'O', ...</td>\n",
       "    </tr>\n",
       "  </tbody>\n",
       "</table>\n",
       "</div>"
      ],
      "text/plain": [
       "    Sentence #                                           Sentence  \\\n",
       "0  Sentence: 1  Thousands of demonstrators have marched throug...   \n",
       "1  Sentence: 2  Families of soldiers killed in the conflict jo...   \n",
       "2  Sentence: 3  They marched from the Houses of Parliament to ...   \n",
       "3  Sentence: 4  Police put the number of marchers at 10,000 wh...   \n",
       "4  Sentence: 5  The protest comes on the eve of the annual con...   \n",
       "\n",
       "                                                 POS  \\\n",
       "0  ['NNS', 'IN', 'NNS', 'VBP', 'VBN', 'IN', 'NNP'...   \n",
       "1  ['NNS', 'IN', 'NNS', 'VBN', 'IN', 'DT', 'NN', ...   \n",
       "2  ['PRP', 'VBD', 'IN', 'DT', 'NNS', 'IN', 'NN', ...   \n",
       "3  ['NNS', 'VBD', 'DT', 'NN', 'IN', 'NNS', 'IN', ...   \n",
       "4  ['DT', 'NN', 'VBZ', 'IN', 'DT', 'NN', 'IN', 'D...   \n",
       "\n",
       "                                                 Tag  \n",
       "0  ['O', 'O', 'O', 'O', 'O', 'O', 'B-geo', 'O', '...  \n",
       "1  ['O', 'O', 'O', 'O', 'O', 'O', 'O', 'O', 'O', ...  \n",
       "2  ['O', 'O', 'O', 'O', 'O', 'O', 'O', 'O', 'O', ...  \n",
       "3  ['O', 'O', 'O', 'O', 'O', 'O', 'O', 'O', 'O', ...  \n",
       "4  ['O', 'O', 'O', 'O', 'O', 'O', 'O', 'O', 'O', ...  "
      ]
     },
     "execution_count": 3,
     "metadata": {},
     "output_type": "execute_result"
    }
   ],
   "source": [
    "data=pd.read_csv(\"/kaggle/input/named-entity-recognition-ner-corpus/ner.csv\",encoding= 'unicode_escape')\n",
    "data.head(5)"
   ]
  },
  {
   "cell_type": "code",
   "execution_count": 4,
   "id": "2b244bb0",
   "metadata": {
    "execution": {
     "iopub.execute_input": "2022-08-03T13:57:59.017312Z",
     "iopub.status.busy": "2022-08-03T13:57:59.016938Z",
     "iopub.status.idle": "2022-08-03T13:57:59.024986Z",
     "shell.execute_reply": "2022-08-03T13:57:59.023864Z"
    },
    "papermill": {
     "duration": 0.015192,
     "end_time": "2022-08-03T13:57:59.027465",
     "exception": false,
     "start_time": "2022-08-03T13:57:59.012273",
     "status": "completed"
    },
    "tags": []
   },
   "outputs": [],
   "source": [
    "from itertools import chain\n",
    "def make_dict_map(data, tokentag):\n",
    "    token_to_idx = {}\n",
    "    idx_to_token = {}  \n",
    "    if tokentag == 'token':\n",
    "        voc = list(set(data['Sentence'].to_list()))\n",
    "    else:\n",
    "        voc = list(set(data['Tag'].to_list()))\n",
    "    idx_to_token = {idx:tok for  idx, tok in enumerate(voc)}\n",
    "    token_to_idx = {tok:idx for  idx, tok in enumerate(voc)}\n",
    "    return token_to_idx , idx_to_token"
   ]
  },
  {
   "cell_type": "code",
   "execution_count": 5,
   "id": "4de4f577",
   "metadata": {
    "execution": {
     "iopub.execute_input": "2022-08-03T13:57:59.036151Z",
     "iopub.status.busy": "2022-08-03T13:57:59.035457Z",
     "iopub.status.idle": "2022-08-03T13:58:01.521020Z",
     "shell.execute_reply": "2022-08-03T13:58:01.519989Z"
    },
    "papermill": {
     "duration": 2.492707,
     "end_time": "2022-08-03T13:58:01.523699",
     "exception": false,
     "start_time": "2022-08-03T13:57:59.030992",
     "status": "completed"
    },
    "tags": []
   },
   "outputs": [
    {
     "name": "stderr",
     "output_type": "stream",
     "text": [
      "/opt/conda/lib/python3.7/site-packages/ipykernel_launcher.py:6: FutureWarning: Indexing with multiple keys (implicitly converted to a tuple of keys) will be deprecated, use a list instead.\n",
      "  \n"
     ]
    }
   ],
   "source": [
    "token_to_idx, idx_to_token = make_dict_map(data, 'token')\n",
    "tag_to_idx, idx_to_tag = make_dict_map(data, 'tag')\n",
    "data['Word_idx'] = data['Sentence'].map(token_to_idx)\n",
    "data['Tag_idx'] = data['Tag'].map(tag_to_idx)\n",
    "data_fillna = data.fillna(method='ffill', axis=0)\n",
    "data_group = data_fillna.groupby(['Sentence #'],as_index=False)['Sentence', 'POS', 'Tag', 'Word_idx', 'Tag_idx'].agg(lambda x: list(x))"
   ]
  },
  {
   "cell_type": "code",
   "execution_count": 6,
   "id": "bed6e00d",
   "metadata": {
    "execution": {
     "iopub.execute_input": "2022-08-03T13:58:01.532817Z",
     "iopub.status.busy": "2022-08-03T13:58:01.532071Z",
     "iopub.status.idle": "2022-08-03T13:58:01.542956Z",
     "shell.execute_reply": "2022-08-03T13:58:01.541865Z"
    },
    "papermill": {
     "duration": 0.017935,
     "end_time": "2022-08-03T13:58:01.545281",
     "exception": false,
     "start_time": "2022-08-03T13:58:01.527346",
     "status": "completed"
    },
    "tags": []
   },
   "outputs": [],
   "source": [
    "def get_train_test_val(data_group, datas):\n",
    "    tokens = data_group['Word_idx'].tolist()\n",
    "    maxlen = max([len(s) for s in tokens])\n",
    "    ntoken = len(list(set(datas['Word'].to_list())))\n",
    "    ntag = len(list(set(datas['Tag'].to_list())))    \n",
    "    padtokens = pad_sequences(tokens, maxlen=maxlen, dtype='int32', padding='post', value= ntoken - 1)\n",
    "    tags = data_group['Tag_idx'].tolist()\n",
    "    padtags = pad_sequences(tags, maxlen=maxlen, dtype='int32', padding='post', value= tag_to_idx[\"O\"])\n",
    "    ntags = len(tag_to_idx)\n",
    "    padtags = [to_categorical(i, num_classes=ntags) for i in padtags]\n",
    "    tokens, testtokens, tags, testtags = train_test_split(padtokens, padtags, test_size=0.1, train_size=0.9, random_state=2020)\n",
    "    traintokens, valtokens, traintags, valtags = train_test_split(tokens,tags,test_size = 0.25,train_size =0.75, random_state=2020)\n",
    "    print(\n",
    "        'length of train tokens :', len(train_tokens),\n",
    "        '\\nlength of train tags   :', len(train_tags),\n",
    "        '\\nlength of test tokens  :', len(test_tokens),\n",
    "        '\\nlength of test tags    :', len(test_tags),\n",
    "        '\\nlength of val tokens   :', len(val_tokens),\n",
    "        '\\nlength of val tags     :', len(val_tags),\n",
    "    )\n",
    "    \n",
    "    return traintokens, testtokens, valtokens, traintags,testtags,valtags"
   ]
  },
  {
   "cell_type": "code",
   "execution_count": 7,
   "id": "d66d0fa2",
   "metadata": {
    "execution": {
     "iopub.execute_input": "2022-08-03T13:58:01.554145Z",
     "iopub.status.busy": "2022-08-03T13:58:01.553492Z",
     "iopub.status.idle": "2022-08-03T13:58:01.581360Z",
     "shell.execute_reply": "2022-08-03T13:58:01.580216Z"
    },
    "papermill": {
     "duration": 0.035016,
     "end_time": "2022-08-03T13:58:01.583859",
     "exception": false,
     "start_time": "2022-08-03T13:58:01.548843",
     "status": "completed"
    },
    "tags": []
   },
   "outputs": [],
   "source": [
    "input_dim = len(list(set(data['Sentence'].to_list())))+1\n",
    "output_dim = 64\n",
    "input_length = max([len(s) for s in data_group['Word_idx'].tolist()])\n",
    "ntags = len(tag_to_idx)\n",
    "ntags\n",
    "def get_bilstmlstm():\n",
    "    model = Sequential()\n",
    "    model.add(Embedding(input_dim=input_dim, output_dim=output_dim, input_length=input_length))\n",
    "    model.add(Bidirectional(LSTM(units=output_dim, return_sequences=True, dropout=0.2, recurrent_dropout=0.2), merge_mode = 'concat'))\n",
    "    model.add(LSTM(units=output_dim, return_sequences=True, dropout=0.5, recurrent_dropout=0.5))\n",
    "    model.add(TimeDistributed(Dense(1, activation=\"relu\")))\n",
    "    model.compile(loss='categorical_crossentropy', optimizer='adam', metrics=['accuracy'])\n",
    "    model.summary()\n",
    "    return model"
   ]
  },
  {
   "cell_type": "code",
   "execution_count": 8,
   "id": "d1e07b5e",
   "metadata": {
    "execution": {
     "iopub.execute_input": "2022-08-03T13:58:01.593267Z",
     "iopub.status.busy": "2022-08-03T13:58:01.592280Z",
     "iopub.status.idle": "2022-08-03T13:58:01.598619Z",
     "shell.execute_reply": "2022-08-03T13:58:01.597497Z"
    },
    "papermill": {
     "duration": 0.01317,
     "end_time": "2022-08-03T13:58:01.600760",
     "exception": false,
     "start_time": "2022-08-03T13:58:01.587590",
     "status": "completed"
    },
    "tags": []
   },
   "outputs": [],
   "source": [
    "def train_model(X, y, model):\n",
    "    loss = list()\n",
    "    for i in range(25):\n",
    "        hist = model.fit(X, y, batch_size=1000, verbose=1, epochs=1, validation_split=0.2)\n",
    "        loss.append(hist.history['loss'][0])\n",
    "    return loss"
   ]
  },
  {
   "cell_type": "code",
   "execution_count": 9,
   "id": "2555ace2",
   "metadata": {
    "execution": {
     "iopub.execute_input": "2022-08-03T13:58:01.609493Z",
     "iopub.status.busy": "2022-08-03T13:58:01.608865Z",
     "iopub.status.idle": "2022-08-03T13:58:03.249068Z",
     "shell.execute_reply": "2022-08-03T13:58:03.247850Z"
    },
    "papermill": {
     "duration": 1.647531,
     "end_time": "2022-08-03T13:58:03.251881",
     "exception": false,
     "start_time": "2022-08-03T13:58:01.604350",
     "status": "completed"
    },
    "tags": []
   },
   "outputs": [
    {
     "name": "stderr",
     "output_type": "stream",
     "text": [
      "2022-08-03 13:58:01.644709: I tensorflow/core/common_runtime/process_util.cc:146] Creating new thread pool with default inter op setting: 2. Tune using inter_op_parallelism_threads for best performance.\n"
     ]
    },
    {
     "name": "stdout",
     "output_type": "stream",
     "text": [
      "Model: \"sequential\"\n",
      "_________________________________________________________________\n",
      "Layer (type)                 Output Shape              Param #   \n",
      "=================================================================\n",
      "embedding (Embedding)        (None, 1, 64)             3044864   \n",
      "_________________________________________________________________\n",
      "bidirectional (Bidirectional (None, 1, 128)            66048     \n",
      "_________________________________________________________________\n",
      "lstm_1 (LSTM)                (None, 1, 64)             49408     \n",
      "_________________________________________________________________\n",
      "time_distributed (TimeDistri (None, 1, 1)              65        \n",
      "=================================================================\n",
      "Total params: 3,160,385\n",
      "Trainable params: 3,160,385\n",
      "Non-trainable params: 0\n",
      "_________________________________________________________________\n"
     ]
    },
    {
     "data": {
      "image/png": "[encoded data removed]",
      "text/plain": [
       "<IPython.core.display.Image object>"
      ]
     },
     "execution_count": 9,
     "metadata": {},
     "output_type": "execute_result"
    }
   ],
   "source": [
    "results = pd.DataFrame()\n",
    "model_bilstm_lstm = get_bilstmlstm()\n",
    "plot_model(model_bilstm_lstm)"
   ]
  }
 ],
 "metadata": {
  "kernelspec": {
   "display_name": "Python 3",
   "language": "python",
   "name": "python3"
  },
  "language_info": {
   "codemirror_mode": {
    "name": "ipython",
    "version": 3
   },
   "file_extension": ".py",
   "mimetype": "text/x-python",
   "name": "python",
   "nbconvert_exporter": "python",
   "pygments_lexer": "ipython3",
   "version": "3.7.12"
  },
  "papermill": {
   "default_parameters": {},
   "duration": 24.520466,
   "end_time": "2022-08-03T13:58:06.714349",
   "environment_variables": {},
   "exception": null,
   "input_path": "__notebook__.ipynb",
   "output_path": "__notebook__.ipynb",
   "parameters": {},
   "start_time": "2022-08-03T13:57:42.193883",
   "version": "2.3.4"
  }
 },
 "nbformat": 4,
 "nbformat_minor": 5
}
